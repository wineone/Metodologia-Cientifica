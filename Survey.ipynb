{
 "cells": [
  {
   "cell_type": "markdown",
   "metadata": {
    "id": "vvwkIYqTMstC"
   },
   "source": [
    "# Prepara o ambiente"
   ]
  },
  {
   "cell_type": "code",
   "execution_count": 3,
   "metadata": {
    "executionInfo": {
     "elapsed": 685,
     "status": "ok",
     "timestamp": 1647892992307,
     "user": {
      "displayName": "Igor de Sousa Pereira",
      "photoUrl": "https://lh3.googleusercontent.com/a-/AOh14Ggw5ABNDwBZkoZyYoWu9VHD8hOmeqvAcLvpDdnNaQ=s64",
      "userId": "14355244345498463392"
     },
     "user_tz": 180
    },
    "id": "S3eZoUvj71Zi"
   },
   "outputs": [],
   "source": [
    "import pandas as pd\n",
    "import numpy as np\n",
    "import scipy, statsmodels, seaborn, matplotlib\n",
    "from scipy.stats import normaltest"
   ]
  },
  {
   "cell_type": "code",
   "execution_count": 4,
   "metadata": {
    "executionInfo": {
     "elapsed": 64,
     "status": "ok",
     "timestamp": 1647892992308,
     "user": {
      "displayName": "Igor de Sousa Pereira",
      "photoUrl": "https://lh3.googleusercontent.com/a-/AOh14Ggw5ABNDwBZkoZyYoWu9VHD8hOmeqvAcLvpDdnNaQ=s64",
      "userId": "14355244345498463392"
     },
     "user_tz": 180
    },
    "id": "AjlDbzw1MEva"
   },
   "outputs": [],
   "source": [
    "path = \"Engajamento de atividades em Pesquisa e Desenvolvimento.csv\""
   ]
  },
  {
   "cell_type": "markdown",
   "metadata": {
    "id": "Ac4SPRwVIJPL"
   },
   "source": [
    "## Carregamento dos dados obtidos"
   ]
  },
  {
   "cell_type": "code",
   "execution_count": 5,
   "metadata": {
    "executionInfo": {
     "elapsed": 62,
     "status": "ok",
     "timestamp": 1647892992309,
     "user": {
      "displayName": "Igor de Sousa Pereira",
      "photoUrl": "https://lh3.googleusercontent.com/a-/AOh14Ggw5ABNDwBZkoZyYoWu9VHD8hOmeqvAcLvpDdnNaQ=s64",
      "userId": "14355244345498463392"
     },
     "user_tz": 180
    },
    "id": "96d9JU5_ICg8"
   },
   "outputs": [],
   "source": [
    "pd.set_option('display.max_columns', None)\n",
    "dados_all = pd.read_csv(path)"
   ]
  },
  {
   "cell_type": "markdown",
   "metadata": {
    "id": "Fo7aJkRPISm6"
   },
   "source": [
    "### Filtragem por pessoas que participaram de algum projeto"
   ]
  },
  {
   "cell_type": "code",
   "execution_count": 6,
   "metadata": {
    "colab": {
     "base_uri": "https://localhost:8080/",
     "height": 687
    },
    "executionInfo": {
     "elapsed": 63,
     "status": "ok",
     "timestamp": 1647892992311,
     "user": {
      "displayName": "Igor de Sousa Pereira",
      "photoUrl": "https://lh3.googleusercontent.com/a-/AOh14Ggw5ABNDwBZkoZyYoWu9VHD8hOmeqvAcLvpDdnNaQ=s64",
      "userId": "14355244345498463392"
     },
     "user_tz": 180
    },
    "id": "o9DxmW_Q8Rs6",
    "outputId": "c67e173b-56a9-4cf8-8029-cd39fae67bae"
   },
   "outputs": [
    {
     "data": {
      "text/html": [
       "<div>\n",
       "<style scoped>\n",
       "    .dataframe tbody tr th:only-of-type {\n",
       "        vertical-align: middle;\n",
       "    }\n",
       "\n",
       "    .dataframe tbody tr th {\n",
       "        vertical-align: top;\n",
       "    }\n",
       "\n",
       "    .dataframe thead th {\n",
       "        text-align: right;\n",
       "    }\n",
       "</style>\n",
       "<table border=\"1\" class=\"dataframe\">\n",
       "  <thead>\n",
       "    <tr style=\"text-align: right;\">\n",
       "      <th></th>\n",
       "      <th>Carimbo de data/hora</th>\n",
       "      <th>Você já participou de algum projeto?</th>\n",
       "      <th>Em qual área você atuou no primeiro projeto?</th>\n",
       "      <th>Em que período você ingressou no Projeto?</th>\n",
       "      <th>Python</th>\n",
       "      <th>Java</th>\n",
       "      <th>JavaScript</th>\n",
       "      <th>Haskell</th>\n",
       "      <th>ProLog</th>\n",
       "      <th>SystemVerilog</th>\n",
       "      <th>C e C++</th>\n",
       "      <th>Bash</th>\n",
       "      <th>Assembly</th>\n",
       "      <th>Outro</th>\n",
       "      <th>HTML e CSS</th>\n",
       "      <th>React / React Native</th>\n",
       "      <th>NodeJS</th>\n",
       "      <th>Django,Flask</th>\n",
       "      <th>Docker</th>\n",
       "      <th>Spring-boot</th>\n",
       "      <th>Tensorflow, Pytorch, Scikit-learn</th>\n",
       "      <th>SQL</th>\n",
       "      <th>Microcontroladores</th>\n",
       "      <th>PhotoShop, Canva, Figma, Adobe XD (UX / UI)</th>\n",
       "      <th>Linux</th>\n",
       "      <th>AWS, Azure</th>\n",
       "      <th>P1, P2, LP1, LP2</th>\n",
       "      <th>Cálculo I e II, Linear, Vetorial</th>\n",
       "      <th>Probabilidade e estatística</th>\n",
       "      <th>Daca, psoft, prog web, ES, Projeto 1, Projeto 2</th>\n",
       "      <th>ATAL, EDA, LEDA, AA</th>\n",
       "      <th>FMCC(I ou II), Lógica</th>\n",
       "      <th>IC, OAC, LOAC</th>\n",
       "      <th>TC, Compiladores</th>\n",
       "      <th>Análise de sistemas</th>\n",
       "      <th>CDD, PLN, CDP, Redes neurais, IA, Percep. computacional</th>\n",
       "      <th>Redes, Segurança de sistemas, interconexões de Redes de Comp.</th>\n",
       "      <th>Na sua opinião, ter uma indicação de alguma pessoa (envolvida, ou não, nesse projeto), te proporcionou o ingresso de seu primeiro projeto?</th>\n",
       "      <th>Tudo correto, nas respostas anteriores?</th>\n",
       "    </tr>\n",
       "  </thead>\n",
       "  <tbody>\n",
       "    <tr>\n",
       "      <th>0</th>\n",
       "      <td>2022/03/09 4:59:43 PM GMT-3</td>\n",
       "      <td>Sim</td>\n",
       "      <td>Desenvolvimento de Sistemas</td>\n",
       "      <td>Sétimo Período</td>\n",
       "      <td>1.0</td>\n",
       "      <td>1.0</td>\n",
       "      <td>5.0</td>\n",
       "      <td>1.0</td>\n",
       "      <td>1.0</td>\n",
       "      <td>1.0</td>\n",
       "      <td>1.0</td>\n",
       "      <td>1.0</td>\n",
       "      <td>1.0</td>\n",
       "      <td>NaN</td>\n",
       "      <td>4.0</td>\n",
       "      <td>1.0</td>\n",
       "      <td>4.0</td>\n",
       "      <td>1.0</td>\n",
       "      <td>1.0</td>\n",
       "      <td>1.0</td>\n",
       "      <td>1.0</td>\n",
       "      <td>1.0</td>\n",
       "      <td>1.0</td>\n",
       "      <td>1.0</td>\n",
       "      <td>1.0</td>\n",
       "      <td>1.0</td>\n",
       "      <td>3.0</td>\n",
       "      <td>1.0</td>\n",
       "      <td>1.0</td>\n",
       "      <td>3.0</td>\n",
       "      <td>1.0</td>\n",
       "      <td>1.0</td>\n",
       "      <td>1.0</td>\n",
       "      <td>1.0</td>\n",
       "      <td>1.0</td>\n",
       "      <td>1.0</td>\n",
       "      <td>1.0</td>\n",
       "      <td>4.0</td>\n",
       "      <td>Sim, tudo bem respondido.</td>\n",
       "    </tr>\n",
       "    <tr>\n",
       "      <th>1</th>\n",
       "      <td>2022/03/09 5:00:21 PM GMT-3</td>\n",
       "      <td>Sim</td>\n",
       "      <td>Inteligência artificial / Dados</td>\n",
       "      <td>Quarto Período</td>\n",
       "      <td>5.0</td>\n",
       "      <td>3.0</td>\n",
       "      <td>1.0</td>\n",
       "      <td>1.0</td>\n",
       "      <td>1.0</td>\n",
       "      <td>1.0</td>\n",
       "      <td>3.0</td>\n",
       "      <td>1.0</td>\n",
       "      <td>1.0</td>\n",
       "      <td>NaN</td>\n",
       "      <td>1.0</td>\n",
       "      <td>1.0</td>\n",
       "      <td>1.0</td>\n",
       "      <td>1.0</td>\n",
       "      <td>1.0</td>\n",
       "      <td>1.0</td>\n",
       "      <td>5.0</td>\n",
       "      <td>3.0</td>\n",
       "      <td>1.0</td>\n",
       "      <td>1.0</td>\n",
       "      <td>4.0</td>\n",
       "      <td>1.0</td>\n",
       "      <td>4.0</td>\n",
       "      <td>5.0</td>\n",
       "      <td>5.0</td>\n",
       "      <td>1.0</td>\n",
       "      <td>4.0</td>\n",
       "      <td>5.0</td>\n",
       "      <td>1.0</td>\n",
       "      <td>2.0</td>\n",
       "      <td>3.0</td>\n",
       "      <td>5.0</td>\n",
       "      <td>1.0</td>\n",
       "      <td>3.0</td>\n",
       "      <td>Sim, tudo bem respondido.</td>\n",
       "    </tr>\n",
       "    <tr>\n",
       "      <th>2</th>\n",
       "      <td>2022/03/09 5:01:31 PM GMT-3</td>\n",
       "      <td>Sim</td>\n",
       "      <td>Inteligência artificial / Dados</td>\n",
       "      <td>Quinto Período</td>\n",
       "      <td>5.0</td>\n",
       "      <td>1.0</td>\n",
       "      <td>3.0</td>\n",
       "      <td>1.0</td>\n",
       "      <td>1.0</td>\n",
       "      <td>1.0</td>\n",
       "      <td>1.0</td>\n",
       "      <td>4.0</td>\n",
       "      <td>1.0</td>\n",
       "      <td>NaN</td>\n",
       "      <td>1.0</td>\n",
       "      <td>1.0</td>\n",
       "      <td>1.0</td>\n",
       "      <td>1.0</td>\n",
       "      <td>3.0</td>\n",
       "      <td>1.0</td>\n",
       "      <td>4.0</td>\n",
       "      <td>2.0</td>\n",
       "      <td>2.0</td>\n",
       "      <td>2.0</td>\n",
       "      <td>4.0</td>\n",
       "      <td>2.0</td>\n",
       "      <td>4.0</td>\n",
       "      <td>4.0</td>\n",
       "      <td>4.0</td>\n",
       "      <td>3.0</td>\n",
       "      <td>3.0</td>\n",
       "      <td>2.0</td>\n",
       "      <td>1.0</td>\n",
       "      <td>1.0</td>\n",
       "      <td>1.0</td>\n",
       "      <td>4.0</td>\n",
       "      <td>2.0</td>\n",
       "      <td>1.0</td>\n",
       "      <td>Sim, tudo bem respondido.</td>\n",
       "    </tr>\n",
       "    <tr>\n",
       "      <th>3</th>\n",
       "      <td>2022/03/09 5:02:29 PM GMT-3</td>\n",
       "      <td>Sim</td>\n",
       "      <td>Inteligência artificial / Dados</td>\n",
       "      <td>Sexto Período</td>\n",
       "      <td>5.0</td>\n",
       "      <td>3.0</td>\n",
       "      <td>1.0</td>\n",
       "      <td>1.0</td>\n",
       "      <td>1.0</td>\n",
       "      <td>1.0</td>\n",
       "      <td>4.0</td>\n",
       "      <td>1.0</td>\n",
       "      <td>1.0</td>\n",
       "      <td>NaN</td>\n",
       "      <td>1.0</td>\n",
       "      <td>1.0</td>\n",
       "      <td>1.0</td>\n",
       "      <td>2.0</td>\n",
       "      <td>2.0</td>\n",
       "      <td>1.0</td>\n",
       "      <td>5.0</td>\n",
       "      <td>3.0</td>\n",
       "      <td>1.0</td>\n",
       "      <td>1.0</td>\n",
       "      <td>5.0</td>\n",
       "      <td>1.0</td>\n",
       "      <td>5.0</td>\n",
       "      <td>5.0</td>\n",
       "      <td>5.0</td>\n",
       "      <td>2.0</td>\n",
       "      <td>5.0</td>\n",
       "      <td>5.0</td>\n",
       "      <td>1.0</td>\n",
       "      <td>2.0</td>\n",
       "      <td>1.0</td>\n",
       "      <td>5.0</td>\n",
       "      <td>1.0</td>\n",
       "      <td>5.0</td>\n",
       "      <td>Sim, tudo bem respondido.</td>\n",
       "    </tr>\n",
       "    <tr>\n",
       "      <th>4</th>\n",
       "      <td>2022/03/09 5:02:55 PM GMT-3</td>\n",
       "      <td>Sim</td>\n",
       "      <td>Desenvolvimento de Sistemas</td>\n",
       "      <td>Oitavo Período</td>\n",
       "      <td>4.0</td>\n",
       "      <td>4.0</td>\n",
       "      <td>5.0</td>\n",
       "      <td>1.0</td>\n",
       "      <td>1.0</td>\n",
       "      <td>1.0</td>\n",
       "      <td>2.0</td>\n",
       "      <td>3.0</td>\n",
       "      <td>1.0</td>\n",
       "      <td>NaN</td>\n",
       "      <td>5.0</td>\n",
       "      <td>5.0</td>\n",
       "      <td>5.0</td>\n",
       "      <td>3.0</td>\n",
       "      <td>4.0</td>\n",
       "      <td>4.0</td>\n",
       "      <td>1.0</td>\n",
       "      <td>4.0</td>\n",
       "      <td>2.0</td>\n",
       "      <td>5.0</td>\n",
       "      <td>3.0</td>\n",
       "      <td>4.0</td>\n",
       "      <td>5.0</td>\n",
       "      <td>1.0</td>\n",
       "      <td>2.0</td>\n",
       "      <td>5.0</td>\n",
       "      <td>2.0</td>\n",
       "      <td>2.0</td>\n",
       "      <td>2.0</td>\n",
       "      <td>1.0</td>\n",
       "      <td>2.0</td>\n",
       "      <td>1.0</td>\n",
       "      <td>2.0</td>\n",
       "      <td>2.0</td>\n",
       "      <td>Sim, tudo bem respondido.</td>\n",
       "    </tr>\n",
       "  </tbody>\n",
       "</table>\n",
       "</div>"
      ],
      "text/plain": [
       "          Carimbo de data/hora Você já participou de algum projeto?  \\\n",
       "0  2022/03/09 4:59:43 PM GMT-3                                  Sim   \n",
       "1  2022/03/09 5:00:21 PM GMT-3                                  Sim   \n",
       "2  2022/03/09 5:01:31 PM GMT-3                                  Sim   \n",
       "3  2022/03/09 5:02:29 PM GMT-3                                  Sim   \n",
       "4  2022/03/09 5:02:55 PM GMT-3                                  Sim   \n",
       "\n",
       "  Em qual área você atuou no primeiro projeto?  \\\n",
       "0                  Desenvolvimento de Sistemas   \n",
       "1              Inteligência artificial / Dados   \n",
       "2              Inteligência artificial / Dados   \n",
       "3              Inteligência artificial / Dados   \n",
       "4                  Desenvolvimento de Sistemas   \n",
       "\n",
       "  Em que período você ingressou no Projeto?  Python  Java  JavaScript  \\\n",
       "0                            Sétimo Período     1.0   1.0         5.0   \n",
       "1                            Quarto Período     5.0   3.0         1.0   \n",
       "2                            Quinto Período     5.0   1.0         3.0   \n",
       "3                             Sexto Período     5.0   3.0         1.0   \n",
       "4                            Oitavo Período     4.0   4.0         5.0   \n",
       "\n",
       "   Haskell  ProLog  SystemVerilog  C e C++  Bash  Assembly Outro  HTML e CSS  \\\n",
       "0      1.0     1.0            1.0      1.0   1.0       1.0   NaN         4.0   \n",
       "1      1.0     1.0            1.0      3.0   1.0       1.0   NaN         1.0   \n",
       "2      1.0     1.0            1.0      1.0   4.0       1.0   NaN         1.0   \n",
       "3      1.0     1.0            1.0      4.0   1.0       1.0   NaN         1.0   \n",
       "4      1.0     1.0            1.0      2.0   3.0       1.0   NaN         5.0   \n",
       "\n",
       "   React / React Native  NodeJS  Django,Flask  Docker  Spring-boot  \\\n",
       "0                   1.0     4.0           1.0     1.0          1.0   \n",
       "1                   1.0     1.0           1.0     1.0          1.0   \n",
       "2                   1.0     1.0           1.0     3.0          1.0   \n",
       "3                   1.0     1.0           2.0     2.0          1.0   \n",
       "4                   5.0     5.0           3.0     4.0          4.0   \n",
       "\n",
       "   Tensorflow, Pytorch, Scikit-learn  SQL  Microcontroladores  \\\n",
       "0                                1.0  1.0                 1.0   \n",
       "1                                5.0  3.0                 1.0   \n",
       "2                                4.0  2.0                 2.0   \n",
       "3                                5.0  3.0                 1.0   \n",
       "4                                1.0  4.0                 2.0   \n",
       "\n",
       "   PhotoShop, Canva, Figma, Adobe XD (UX / UI)  Linux  AWS, Azure  \\\n",
       "0                                          1.0    1.0         1.0   \n",
       "1                                          1.0    4.0         1.0   \n",
       "2                                          2.0    4.0         2.0   \n",
       "3                                          1.0    5.0         1.0   \n",
       "4                                          5.0    3.0         4.0   \n",
       "\n",
       "   P1, P2, LP1, LP2  Cálculo I e II, Linear, Vetorial  \\\n",
       "0               3.0                               1.0   \n",
       "1               4.0                               5.0   \n",
       "2               4.0                               4.0   \n",
       "3               5.0                               5.0   \n",
       "4               5.0                               1.0   \n",
       "\n",
       "   Probabilidade e estatística  \\\n",
       "0                          1.0   \n",
       "1                          5.0   \n",
       "2                          4.0   \n",
       "3                          5.0   \n",
       "4                          2.0   \n",
       "\n",
       "   Daca, psoft, prog web, ES, Projeto 1, Projeto 2  ATAL, EDA, LEDA, AA  \\\n",
       "0                                              3.0                  1.0   \n",
       "1                                              1.0                  4.0   \n",
       "2                                              3.0                  3.0   \n",
       "3                                              2.0                  5.0   \n",
       "4                                              5.0                  2.0   \n",
       "\n",
       "   FMCC(I ou II), Lógica  IC, OAC, LOAC  TC, Compiladores  \\\n",
       "0                    1.0            1.0               1.0   \n",
       "1                    5.0            1.0               2.0   \n",
       "2                    2.0            1.0               1.0   \n",
       "3                    5.0            1.0               2.0   \n",
       "4                    2.0            2.0               1.0   \n",
       "\n",
       "   Análise de sistemas  \\\n",
       "0                  1.0   \n",
       "1                  3.0   \n",
       "2                  1.0   \n",
       "3                  1.0   \n",
       "4                  2.0   \n",
       "\n",
       "   CDD, PLN, CDP, Redes neurais, IA, Percep. computacional  \\\n",
       "0                                                1.0         \n",
       "1                                                5.0         \n",
       "2                                                4.0         \n",
       "3                                                5.0         \n",
       "4                                                1.0         \n",
       "\n",
       "   Redes, Segurança de sistemas, interconexões de Redes de Comp.  \\\n",
       "0                                                1.0               \n",
       "1                                                1.0               \n",
       "2                                                2.0               \n",
       "3                                                1.0               \n",
       "4                                                2.0               \n",
       "\n",
       "   Na sua opinião, ter uma indicação de alguma pessoa (envolvida, ou não, nesse projeto), te proporcionou o ingresso de seu primeiro projeto?  \\\n",
       "0                                                4.0                                                                                            \n",
       "1                                                3.0                                                                                            \n",
       "2                                                1.0                                                                                            \n",
       "3                                                5.0                                                                                            \n",
       "4                                                2.0                                                                                            \n",
       "\n",
       "  Tudo correto, nas respostas anteriores?  \n",
       "0               Sim, tudo bem respondido.  \n",
       "1               Sim, tudo bem respondido.  \n",
       "2               Sim, tudo bem respondido.  \n",
       "3               Sim, tudo bem respondido.  \n",
       "4               Sim, tudo bem respondido.  "
      ]
     },
     "execution_count": 6,
     "metadata": {},
     "output_type": "execute_result"
    }
   ],
   "source": [
    "dados = dados_all[dados_all['Você já participou de algum projeto?'] == \"Sim\"]\n",
    "dados.head()"
   ]
  },
  {
   "cell_type": "markdown",
   "metadata": {
    "id": "sXrXtZFmIeik"
   },
   "source": [
    "## Descrição estatistica dos dados: quantidade, media, std(desvio padrão) "
   ]
  },
  {
   "cell_type": "code",
   "execution_count": 7,
   "metadata": {
    "colab": {
     "base_uri": "https://localhost:8080/",
     "height": 607
    },
    "executionInfo": {
     "elapsed": 56,
     "status": "ok",
     "timestamp": 1647892992312,
     "user": {
      "displayName": "Igor de Sousa Pereira",
      "photoUrl": "https://lh3.googleusercontent.com/a-/AOh14Ggw5ABNDwBZkoZyYoWu9VHD8hOmeqvAcLvpDdnNaQ=s64",
      "userId": "14355244345498463392"
     },
     "user_tz": 180
    },
    "id": "XSGylmV4Tvbp",
    "outputId": "bce5536c-1ee5-401c-e2e9-70683e04933a"
   },
   "outputs": [
    {
     "data": {
      "text/html": [
       "<div>\n",
       "<style scoped>\n",
       "    .dataframe tbody tr th:only-of-type {\n",
       "        vertical-align: middle;\n",
       "    }\n",
       "\n",
       "    .dataframe tbody tr th {\n",
       "        vertical-align: top;\n",
       "    }\n",
       "\n",
       "    .dataframe thead th {\n",
       "        text-align: right;\n",
       "    }\n",
       "</style>\n",
       "<table border=\"1\" class=\"dataframe\">\n",
       "  <thead>\n",
       "    <tr style=\"text-align: right;\">\n",
       "      <th></th>\n",
       "      <th>Python</th>\n",
       "      <th>Java</th>\n",
       "      <th>JavaScript</th>\n",
       "      <th>Haskell</th>\n",
       "      <th>ProLog</th>\n",
       "      <th>SystemVerilog</th>\n",
       "      <th>C e C++</th>\n",
       "      <th>Bash</th>\n",
       "      <th>Assembly</th>\n",
       "      <th>HTML e CSS</th>\n",
       "      <th>React / React Native</th>\n",
       "      <th>NodeJS</th>\n",
       "      <th>Django,Flask</th>\n",
       "      <th>Docker</th>\n",
       "      <th>Spring-boot</th>\n",
       "      <th>Tensorflow, Pytorch, Scikit-learn</th>\n",
       "      <th>SQL</th>\n",
       "      <th>Microcontroladores</th>\n",
       "      <th>PhotoShop, Canva, Figma, Adobe XD (UX / UI)</th>\n",
       "      <th>Linux</th>\n",
       "      <th>AWS, Azure</th>\n",
       "      <th>P1, P2, LP1, LP2</th>\n",
       "      <th>Cálculo I e II, Linear, Vetorial</th>\n",
       "      <th>Probabilidade e estatística</th>\n",
       "      <th>Daca, psoft, prog web, ES, Projeto 1, Projeto 2</th>\n",
       "      <th>ATAL, EDA, LEDA, AA</th>\n",
       "      <th>FMCC(I ou II), Lógica</th>\n",
       "      <th>IC, OAC, LOAC</th>\n",
       "      <th>TC, Compiladores</th>\n",
       "      <th>Análise de sistemas</th>\n",
       "      <th>CDD, PLN, CDP, Redes neurais, IA, Percep. computacional</th>\n",
       "      <th>Redes, Segurança de sistemas, interconexões de Redes de Comp.</th>\n",
       "      <th>Na sua opinião, ter uma indicação de alguma pessoa (envolvida, ou não, nesse projeto), te proporcionou o ingresso de seu primeiro projeto?</th>\n",
       "    </tr>\n",
       "  </thead>\n",
       "  <tbody>\n",
       "    <tr>\n",
       "      <th>count</th>\n",
       "      <td>37.000000</td>\n",
       "      <td>37.000000</td>\n",
       "      <td>37.000000</td>\n",
       "      <td>37.000000</td>\n",
       "      <td>37.000000</td>\n",
       "      <td>37.000000</td>\n",
       "      <td>37.000000</td>\n",
       "      <td>37.000000</td>\n",
       "      <td>37.000000</td>\n",
       "      <td>37.000000</td>\n",
       "      <td>37.000000</td>\n",
       "      <td>37.000000</td>\n",
       "      <td>37.000000</td>\n",
       "      <td>37.000000</td>\n",
       "      <td>37.000000</td>\n",
       "      <td>37.000000</td>\n",
       "      <td>37.000000</td>\n",
       "      <td>37.000000</td>\n",
       "      <td>37.000000</td>\n",
       "      <td>37.000000</td>\n",
       "      <td>37.000000</td>\n",
       "      <td>37.000000</td>\n",
       "      <td>37.000000</td>\n",
       "      <td>36.000000</td>\n",
       "      <td>35.000000</td>\n",
       "      <td>36.000000</td>\n",
       "      <td>36.000000</td>\n",
       "      <td>36.000000</td>\n",
       "      <td>35.000000</td>\n",
       "      <td>35.000000</td>\n",
       "      <td>33.000000</td>\n",
       "      <td>35.000000</td>\n",
       "      <td>36.000000</td>\n",
       "    </tr>\n",
       "    <tr>\n",
       "      <th>mean</th>\n",
       "      <td>3.081081</td>\n",
       "      <td>2.918919</td>\n",
       "      <td>3.621622</td>\n",
       "      <td>1.108108</td>\n",
       "      <td>1.027027</td>\n",
       "      <td>1.054054</td>\n",
       "      <td>2.054054</td>\n",
       "      <td>2.459459</td>\n",
       "      <td>1.135135</td>\n",
       "      <td>3.000000</td>\n",
       "      <td>2.567568</td>\n",
       "      <td>3.027027</td>\n",
       "      <td>1.837838</td>\n",
       "      <td>2.837838</td>\n",
       "      <td>2.405405</td>\n",
       "      <td>2.162162</td>\n",
       "      <td>3.270270</td>\n",
       "      <td>1.162162</td>\n",
       "      <td>1.756757</td>\n",
       "      <td>3.648649</td>\n",
       "      <td>2.351351</td>\n",
       "      <td>4.351351</td>\n",
       "      <td>1.891892</td>\n",
       "      <td>2.277778</td>\n",
       "      <td>3.771429</td>\n",
       "      <td>3.388889</td>\n",
       "      <td>2.500000</td>\n",
       "      <td>1.611111</td>\n",
       "      <td>1.485714</td>\n",
       "      <td>2.457143</td>\n",
       "      <td>2.393939</td>\n",
       "      <td>1.771429</td>\n",
       "      <td>2.750000</td>\n",
       "    </tr>\n",
       "    <tr>\n",
       "      <th>std</th>\n",
       "      <td>1.605172</td>\n",
       "      <td>1.622385</td>\n",
       "      <td>1.604704</td>\n",
       "      <td>0.393262</td>\n",
       "      <td>0.164399</td>\n",
       "      <td>0.328798</td>\n",
       "      <td>1.470940</td>\n",
       "      <td>1.345664</td>\n",
       "      <td>0.535525</td>\n",
       "      <td>1.632993</td>\n",
       "      <td>1.658991</td>\n",
       "      <td>1.755729</td>\n",
       "      <td>1.142938</td>\n",
       "      <td>1.624697</td>\n",
       "      <td>1.571614</td>\n",
       "      <td>1.607509</td>\n",
       "      <td>1.574954</td>\n",
       "      <td>0.373684</td>\n",
       "      <td>1.140307</td>\n",
       "      <td>1.476035</td>\n",
       "      <td>1.494736</td>\n",
       "      <td>0.919427</td>\n",
       "      <td>1.307750</td>\n",
       "      <td>1.322576</td>\n",
       "      <td>1.535573</td>\n",
       "      <td>1.201850</td>\n",
       "      <td>1.207122</td>\n",
       "      <td>0.837608</td>\n",
       "      <td>0.781079</td>\n",
       "      <td>1.400480</td>\n",
       "      <td>1.619016</td>\n",
       "      <td>0.972738</td>\n",
       "      <td>1.729988</td>\n",
       "    </tr>\n",
       "    <tr>\n",
       "      <th>min</th>\n",
       "      <td>1.000000</td>\n",
       "      <td>1.000000</td>\n",
       "      <td>1.000000</td>\n",
       "      <td>1.000000</td>\n",
       "      <td>1.000000</td>\n",
       "      <td>1.000000</td>\n",
       "      <td>1.000000</td>\n",
       "      <td>1.000000</td>\n",
       "      <td>1.000000</td>\n",
       "      <td>1.000000</td>\n",
       "      <td>1.000000</td>\n",
       "      <td>1.000000</td>\n",
       "      <td>1.000000</td>\n",
       "      <td>1.000000</td>\n",
       "      <td>1.000000</td>\n",
       "      <td>1.000000</td>\n",
       "      <td>1.000000</td>\n",
       "      <td>1.000000</td>\n",
       "      <td>1.000000</td>\n",
       "      <td>1.000000</td>\n",
       "      <td>1.000000</td>\n",
       "      <td>2.000000</td>\n",
       "      <td>1.000000</td>\n",
       "      <td>1.000000</td>\n",
       "      <td>1.000000</td>\n",
       "      <td>1.000000</td>\n",
       "      <td>1.000000</td>\n",
       "      <td>1.000000</td>\n",
       "      <td>1.000000</td>\n",
       "      <td>1.000000</td>\n",
       "      <td>1.000000</td>\n",
       "      <td>1.000000</td>\n",
       "      <td>1.000000</td>\n",
       "    </tr>\n",
       "    <tr>\n",
       "      <th>25%</th>\n",
       "      <td>1.000000</td>\n",
       "      <td>1.000000</td>\n",
       "      <td>3.000000</td>\n",
       "      <td>1.000000</td>\n",
       "      <td>1.000000</td>\n",
       "      <td>1.000000</td>\n",
       "      <td>1.000000</td>\n",
       "      <td>1.000000</td>\n",
       "      <td>1.000000</td>\n",
       "      <td>1.000000</td>\n",
       "      <td>1.000000</td>\n",
       "      <td>1.000000</td>\n",
       "      <td>1.000000</td>\n",
       "      <td>1.000000</td>\n",
       "      <td>1.000000</td>\n",
       "      <td>1.000000</td>\n",
       "      <td>2.000000</td>\n",
       "      <td>1.000000</td>\n",
       "      <td>1.000000</td>\n",
       "      <td>3.000000</td>\n",
       "      <td>1.000000</td>\n",
       "      <td>4.000000</td>\n",
       "      <td>1.000000</td>\n",
       "      <td>1.000000</td>\n",
       "      <td>3.000000</td>\n",
       "      <td>2.750000</td>\n",
       "      <td>1.000000</td>\n",
       "      <td>1.000000</td>\n",
       "      <td>1.000000</td>\n",
       "      <td>1.000000</td>\n",
       "      <td>1.000000</td>\n",
       "      <td>1.000000</td>\n",
       "      <td>1.000000</td>\n",
       "    </tr>\n",
       "    <tr>\n",
       "      <th>50%</th>\n",
       "      <td>3.000000</td>\n",
       "      <td>3.000000</td>\n",
       "      <td>4.000000</td>\n",
       "      <td>1.000000</td>\n",
       "      <td>1.000000</td>\n",
       "      <td>1.000000</td>\n",
       "      <td>1.000000</td>\n",
       "      <td>3.000000</td>\n",
       "      <td>1.000000</td>\n",
       "      <td>3.000000</td>\n",
       "      <td>2.000000</td>\n",
       "      <td>3.000000</td>\n",
       "      <td>1.000000</td>\n",
       "      <td>3.000000</td>\n",
       "      <td>1.000000</td>\n",
       "      <td>1.000000</td>\n",
       "      <td>4.000000</td>\n",
       "      <td>1.000000</td>\n",
       "      <td>1.000000</td>\n",
       "      <td>4.000000</td>\n",
       "      <td>2.000000</td>\n",
       "      <td>5.000000</td>\n",
       "      <td>1.000000</td>\n",
       "      <td>2.000000</td>\n",
       "      <td>5.000000</td>\n",
       "      <td>3.000000</td>\n",
       "      <td>3.000000</td>\n",
       "      <td>1.000000</td>\n",
       "      <td>1.000000</td>\n",
       "      <td>2.000000</td>\n",
       "      <td>2.000000</td>\n",
       "      <td>1.000000</td>\n",
       "      <td>2.500000</td>\n",
       "    </tr>\n",
       "    <tr>\n",
       "      <th>75%</th>\n",
       "      <td>5.000000</td>\n",
       "      <td>4.000000</td>\n",
       "      <td>5.000000</td>\n",
       "      <td>1.000000</td>\n",
       "      <td>1.000000</td>\n",
       "      <td>1.000000</td>\n",
       "      <td>3.000000</td>\n",
       "      <td>4.000000</td>\n",
       "      <td>1.000000</td>\n",
       "      <td>5.000000</td>\n",
       "      <td>4.000000</td>\n",
       "      <td>5.000000</td>\n",
       "      <td>3.000000</td>\n",
       "      <td>4.000000</td>\n",
       "      <td>4.000000</td>\n",
       "      <td>4.000000</td>\n",
       "      <td>5.000000</td>\n",
       "      <td>1.000000</td>\n",
       "      <td>2.000000</td>\n",
       "      <td>5.000000</td>\n",
       "      <td>4.000000</td>\n",
       "      <td>5.000000</td>\n",
       "      <td>3.000000</td>\n",
       "      <td>3.000000</td>\n",
       "      <td>5.000000</td>\n",
       "      <td>4.000000</td>\n",
       "      <td>3.000000</td>\n",
       "      <td>2.000000</td>\n",
       "      <td>2.000000</td>\n",
       "      <td>3.000000</td>\n",
       "      <td>4.000000</td>\n",
       "      <td>2.500000</td>\n",
       "      <td>5.000000</td>\n",
       "    </tr>\n",
       "    <tr>\n",
       "      <th>max</th>\n",
       "      <td>5.000000</td>\n",
       "      <td>5.000000</td>\n",
       "      <td>5.000000</td>\n",
       "      <td>3.000000</td>\n",
       "      <td>2.000000</td>\n",
       "      <td>3.000000</td>\n",
       "      <td>5.000000</td>\n",
       "      <td>5.000000</td>\n",
       "      <td>4.000000</td>\n",
       "      <td>5.000000</td>\n",
       "      <td>5.000000</td>\n",
       "      <td>5.000000</td>\n",
       "      <td>4.000000</td>\n",
       "      <td>5.000000</td>\n",
       "      <td>5.000000</td>\n",
       "      <td>5.000000</td>\n",
       "      <td>5.000000</td>\n",
       "      <td>2.000000</td>\n",
       "      <td>5.000000</td>\n",
       "      <td>5.000000</td>\n",
       "      <td>5.000000</td>\n",
       "      <td>5.000000</td>\n",
       "      <td>5.000000</td>\n",
       "      <td>5.000000</td>\n",
       "      <td>5.000000</td>\n",
       "      <td>5.000000</td>\n",
       "      <td>5.000000</td>\n",
       "      <td>4.000000</td>\n",
       "      <td>4.000000</td>\n",
       "      <td>5.000000</td>\n",
       "      <td>5.000000</td>\n",
       "      <td>4.000000</td>\n",
       "      <td>5.000000</td>\n",
       "    </tr>\n",
       "  </tbody>\n",
       "</table>\n",
       "</div>"
      ],
      "text/plain": [
       "          Python       Java  JavaScript    Haskell     ProLog  SystemVerilog  \\\n",
       "count  37.000000  37.000000   37.000000  37.000000  37.000000      37.000000   \n",
       "mean    3.081081   2.918919    3.621622   1.108108   1.027027       1.054054   \n",
       "std     1.605172   1.622385    1.604704   0.393262   0.164399       0.328798   \n",
       "min     1.000000   1.000000    1.000000   1.000000   1.000000       1.000000   \n",
       "25%     1.000000   1.000000    3.000000   1.000000   1.000000       1.000000   \n",
       "50%     3.000000   3.000000    4.000000   1.000000   1.000000       1.000000   \n",
       "75%     5.000000   4.000000    5.000000   1.000000   1.000000       1.000000   \n",
       "max     5.000000   5.000000    5.000000   3.000000   2.000000       3.000000   \n",
       "\n",
       "         C e C++       Bash   Assembly  HTML e CSS  React / React Native  \\\n",
       "count  37.000000  37.000000  37.000000   37.000000             37.000000   \n",
       "mean    2.054054   2.459459   1.135135    3.000000              2.567568   \n",
       "std     1.470940   1.345664   0.535525    1.632993              1.658991   \n",
       "min     1.000000   1.000000   1.000000    1.000000              1.000000   \n",
       "25%     1.000000   1.000000   1.000000    1.000000              1.000000   \n",
       "50%     1.000000   3.000000   1.000000    3.000000              2.000000   \n",
       "75%     3.000000   4.000000   1.000000    5.000000              4.000000   \n",
       "max     5.000000   5.000000   4.000000    5.000000              5.000000   \n",
       "\n",
       "          NodeJS  Django,Flask     Docker  Spring-boot  \\\n",
       "count  37.000000     37.000000  37.000000    37.000000   \n",
       "mean    3.027027      1.837838   2.837838     2.405405   \n",
       "std     1.755729      1.142938   1.624697     1.571614   \n",
       "min     1.000000      1.000000   1.000000     1.000000   \n",
       "25%     1.000000      1.000000   1.000000     1.000000   \n",
       "50%     3.000000      1.000000   3.000000     1.000000   \n",
       "75%     5.000000      3.000000   4.000000     4.000000   \n",
       "max     5.000000      4.000000   5.000000     5.000000   \n",
       "\n",
       "       Tensorflow, Pytorch, Scikit-learn        SQL  Microcontroladores  \\\n",
       "count                          37.000000  37.000000           37.000000   \n",
       "mean                            2.162162   3.270270            1.162162   \n",
       "std                             1.607509   1.574954            0.373684   \n",
       "min                             1.000000   1.000000            1.000000   \n",
       "25%                             1.000000   2.000000            1.000000   \n",
       "50%                             1.000000   4.000000            1.000000   \n",
       "75%                             4.000000   5.000000            1.000000   \n",
       "max                             5.000000   5.000000            2.000000   \n",
       "\n",
       "       PhotoShop, Canva, Figma, Adobe XD (UX / UI)      Linux  AWS, Azure  \\\n",
       "count                                    37.000000  37.000000   37.000000   \n",
       "mean                                      1.756757   3.648649    2.351351   \n",
       "std                                       1.140307   1.476035    1.494736   \n",
       "min                                       1.000000   1.000000    1.000000   \n",
       "25%                                       1.000000   3.000000    1.000000   \n",
       "50%                                       1.000000   4.000000    2.000000   \n",
       "75%                                       2.000000   5.000000    4.000000   \n",
       "max                                       5.000000   5.000000    5.000000   \n",
       "\n",
       "       P1, P2, LP1, LP2  Cálculo I e II, Linear, Vetorial  \\\n",
       "count         37.000000                         37.000000   \n",
       "mean           4.351351                          1.891892   \n",
       "std            0.919427                          1.307750   \n",
       "min            2.000000                          1.000000   \n",
       "25%            4.000000                          1.000000   \n",
       "50%            5.000000                          1.000000   \n",
       "75%            5.000000                          3.000000   \n",
       "max            5.000000                          5.000000   \n",
       "\n",
       "       Probabilidade e estatística  \\\n",
       "count                    36.000000   \n",
       "mean                      2.277778   \n",
       "std                       1.322576   \n",
       "min                       1.000000   \n",
       "25%                       1.000000   \n",
       "50%                       2.000000   \n",
       "75%                       3.000000   \n",
       "max                       5.000000   \n",
       "\n",
       "       Daca, psoft, prog web, ES, Projeto 1, Projeto 2  ATAL, EDA, LEDA, AA  \\\n",
       "count                                        35.000000            36.000000   \n",
       "mean                                          3.771429             3.388889   \n",
       "std                                           1.535573             1.201850   \n",
       "min                                           1.000000             1.000000   \n",
       "25%                                           3.000000             2.750000   \n",
       "50%                                           5.000000             3.000000   \n",
       "75%                                           5.000000             4.000000   \n",
       "max                                           5.000000             5.000000   \n",
       "\n",
       "       FMCC(I ou II), Lógica  IC, OAC, LOAC  TC, Compiladores  \\\n",
       "count              36.000000      36.000000         35.000000   \n",
       "mean                2.500000       1.611111          1.485714   \n",
       "std                 1.207122       0.837608          0.781079   \n",
       "min                 1.000000       1.000000          1.000000   \n",
       "25%                 1.000000       1.000000          1.000000   \n",
       "50%                 3.000000       1.000000          1.000000   \n",
       "75%                 3.000000       2.000000          2.000000   \n",
       "max                 5.000000       4.000000          4.000000   \n",
       "\n",
       "       Análise de sistemas  \\\n",
       "count            35.000000   \n",
       "mean              2.457143   \n",
       "std               1.400480   \n",
       "min               1.000000   \n",
       "25%               1.000000   \n",
       "50%               2.000000   \n",
       "75%               3.000000   \n",
       "max               5.000000   \n",
       "\n",
       "       CDD, PLN, CDP, Redes neurais, IA, Percep. computacional  \\\n",
       "count                                          33.000000         \n",
       "mean                                            2.393939         \n",
       "std                                             1.619016         \n",
       "min                                             1.000000         \n",
       "25%                                             1.000000         \n",
       "50%                                             2.000000         \n",
       "75%                                             4.000000         \n",
       "max                                             5.000000         \n",
       "\n",
       "       Redes, Segurança de sistemas, interconexões de Redes de Comp.  \\\n",
       "count                                          35.000000               \n",
       "mean                                            1.771429               \n",
       "std                                             0.972738               \n",
       "min                                             1.000000               \n",
       "25%                                             1.000000               \n",
       "50%                                             1.000000               \n",
       "75%                                             2.500000               \n",
       "max                                             4.000000               \n",
       "\n",
       "       Na sua opinião, ter uma indicação de alguma pessoa (envolvida, ou não, nesse projeto), te proporcionou o ingresso de seu primeiro projeto?  \n",
       "count                                          36.000000                                                                                           \n",
       "mean                                            2.750000                                                                                           \n",
       "std                                             1.729988                                                                                           \n",
       "min                                             1.000000                                                                                           \n",
       "25%                                             1.000000                                                                                           \n",
       "50%                                             2.500000                                                                                           \n",
       "75%                                             5.000000                                                                                           \n",
       "max                                             5.000000                                                                                           "
      ]
     },
     "execution_count": 7,
     "metadata": {},
     "output_type": "execute_result"
    }
   ],
   "source": [
    "dados.describe()"
   ]
  },
  {
   "cell_type": "markdown",
   "metadata": {
    "id": "MM8N9BZsO287"
   },
   "source": [
    "## Analisando linguagens/ferramentas mais populares para cada subclasse da nossa pesquisa"
   ]
  },
  {
   "cell_type": "code",
   "execution_count": 8,
   "metadata": {
    "colab": {
     "base_uri": "https://localhost:8080/",
     "height": 206
    },
    "executionInfo": {
     "elapsed": 52,
     "status": "ok",
     "timestamp": 1647892992313,
     "user": {
      "displayName": "Igor de Sousa Pereira",
      "photoUrl": "https://lh3.googleusercontent.com/a-/AOh14Ggw5ABNDwBZkoZyYoWu9VHD8hOmeqvAcLvpDdnNaQ=s64",
      "userId": "14355244345498463392"
     },
     "user_tz": 180
    },
    "id": "SCIGvTSPJ9M5",
    "outputId": "e700b153-41b5-4e43-ab2c-18be72298ca7"
   },
   "outputs": [
    {
     "data": {
      "text/html": [
       "<div>\n",
       "<style scoped>\n",
       "    .dataframe tbody tr th:only-of-type {\n",
       "        vertical-align: middle;\n",
       "    }\n",
       "\n",
       "    .dataframe tbody tr th {\n",
       "        vertical-align: top;\n",
       "    }\n",
       "\n",
       "    .dataframe thead th {\n",
       "        text-align: right;\n",
       "    }\n",
       "</style>\n",
       "<table border=\"1\" class=\"dataframe\">\n",
       "  <thead>\n",
       "    <tr style=\"text-align: right;\">\n",
       "      <th></th>\n",
       "      <th>Carimbo de data/hora</th>\n",
       "    </tr>\n",
       "    <tr>\n",
       "      <th>Em qual área você atuou no primeiro projeto?</th>\n",
       "      <th></th>\n",
       "    </tr>\n",
       "  </thead>\n",
       "  <tbody>\n",
       "    <tr>\n",
       "      <th>Cloud computing</th>\n",
       "      <td>2</td>\n",
       "    </tr>\n",
       "    <tr>\n",
       "      <th>Desenvolvimento de Sistemas</th>\n",
       "      <td>23</td>\n",
       "    </tr>\n",
       "    <tr>\n",
       "      <th>Inteligência artificial / Dados</th>\n",
       "      <td>11</td>\n",
       "    </tr>\n",
       "    <tr>\n",
       "      <th>Segurança de Dados</th>\n",
       "      <td>1</td>\n",
       "    </tr>\n",
       "  </tbody>\n",
       "</table>\n",
       "</div>"
      ],
      "text/plain": [
       "                                              Carimbo de data/hora\n",
       "Em qual área você atuou no primeiro projeto?                      \n",
       "Cloud computing                                                  2\n",
       "Desenvolvimento de Sistemas                                     23\n",
       "Inteligência artificial / Dados                                 11\n",
       "Segurança de Dados                                               1"
      ]
     },
     "execution_count": 8,
     "metadata": {},
     "output_type": "execute_result"
    }
   ],
   "source": [
    "dados.groupby('Em qual área você atuou no primeiro projeto?').count()[['Carimbo de data/hora']]"
   ]
  },
  {
   "cell_type": "code",
   "execution_count": 9,
   "metadata": {
    "executionInfo": {
     "elapsed": 49,
     "status": "ok",
     "timestamp": 1647892992314,
     "user": {
      "displayName": "Igor de Sousa Pereira",
      "photoUrl": "https://lh3.googleusercontent.com/a-/AOh14Ggw5ABNDwBZkoZyYoWu9VHD8hOmeqvAcLvpDdnNaQ=s64",
      "userId": "14355244345498463392"
     },
     "user_tz": 180
    },
    "id": "Umy2kLZfLL6X"
   },
   "outputs": [],
   "source": [
    "posicoes = dados.groupby('Em qual área você atuou no primeiro projeto?').count()[['Carimbo de data/hora']].index"
   ]
  },
  {
   "cell_type": "markdown",
   "metadata": {
    "id": "roMKXdjUTDQq"
   },
   "source": [
    "### Para as linguagens foram essa as médias\n"
   ]
  },
  {
   "cell_type": "code",
   "execution_count": 10,
   "metadata": {
    "executionInfo": {
     "elapsed": 48,
     "status": "ok",
     "timestamp": 1647892992315,
     "user": {
      "displayName": "Igor de Sousa Pereira",
      "photoUrl": "https://lh3.googleusercontent.com/a-/AOh14Ggw5ABNDwBZkoZyYoWu9VHD8hOmeqvAcLvpDdnNaQ=s64",
      "userId": "14355244345498463392"
     },
     "user_tz": 180
    },
    "id": "7yhfDFgqPrU6"
   },
   "outputs": [],
   "source": [
    "def plot_most_popular_langs_class(dataframe,position, count=9):\n",
    "  langs = dataframe.columns[4:13]\n",
    "  # print(langs)\n",
    "  data = dataframe[dataframe['Em qual área você atuou no primeiro projeto?'] == position]\n",
    "  data_group = data[langs].mean().sort_values(ascending=False)\n",
    "  print(f\">> Para a classe '{position}' as seguintes linguagens são mais importantes\")\n",
    "  print(f\">> Para essa classe tivermos {len(data)} observações\")\n",
    "  print(data_group[:count], end = '\\n\\n')"
   ]
  },
  {
   "cell_type": "code",
   "execution_count": 11,
   "metadata": {
    "colab": {
     "base_uri": "https://localhost:8080/"
    },
    "executionInfo": {
     "elapsed": 47,
     "status": "ok",
     "timestamp": 1647892992316,
     "user": {
      "displayName": "Igor de Sousa Pereira",
      "photoUrl": "https://lh3.googleusercontent.com/a-/AOh14Ggw5ABNDwBZkoZyYoWu9VHD8hOmeqvAcLvpDdnNaQ=s64",
      "userId": "14355244345498463392"
     },
     "user_tz": 180
    },
    "id": "VngvxxGZPwre",
    "outputId": "e6b5cc9f-4313-42dc-db3a-3dbcb6e92e48"
   },
   "outputs": [
    {
     "name": "stdout",
     "output_type": "stream",
     "text": [
      ">> Para a classe 'Cloud computing' as seguintes linguagens são mais importantes\n",
      ">> Para essa classe tivermos 2 observações\n",
      "Python           3.5\n",
      "C e C++          3.0\n",
      "Java             2.5\n",
      "Bash             1.5\n",
      "JavaScript       1.0\n",
      "Haskell          1.0\n",
      "ProLog           1.0\n",
      "SystemVerilog    1.0\n",
      "Assembly         1.0\n",
      "dtype: float64\n",
      "\n",
      ">> Para a classe 'Desenvolvimento de Sistemas' as seguintes linguagens são mais importantes\n",
      ">> Para essa classe tivermos 23 observações\n",
      "JavaScript       4.260870\n",
      "Java             3.173913\n",
      "Bash             2.521739\n",
      "Python           2.478261\n",
      "C e C++          1.869565\n",
      "Haskell          1.043478\n",
      "Assembly         1.043478\n",
      "ProLog           1.000000\n",
      "SystemVerilog    1.000000\n",
      "dtype: float64\n",
      "\n",
      ">> Para a classe 'Inteligência artificial / Dados' as seguintes linguagens são mais importantes\n",
      ">> Para essa classe tivermos 11 observações\n",
      "Python           4.454545\n",
      "JavaScript       3.000000\n",
      "Java             2.454545\n",
      "Bash             2.272727\n",
      "C e C++          2.000000\n",
      "Haskell          1.272727\n",
      "SystemVerilog    1.181818\n",
      "ProLog           1.090909\n",
      "Assembly         1.090909\n",
      "dtype: float64\n",
      "\n",
      ">> Para a classe 'Segurança de Dados' as seguintes linguagens são mais importantes\n",
      ">> Para essa classe tivermos 1 observações\n",
      "C e C++          5.0\n",
      "Bash             5.0\n",
      "Assembly         4.0\n",
      "Java             3.0\n",
      "Python           1.0\n",
      "JavaScript       1.0\n",
      "Haskell          1.0\n",
      "ProLog           1.0\n",
      "SystemVerilog    1.0\n",
      "dtype: float64\n",
      "\n"
     ]
    }
   ],
   "source": [
    "for pos in posicoes:\n",
    "  plot_most_popular_langs_class(dados,pos)"
   ]
  },
  {
   "cell_type": "markdown",
   "metadata": {
    "id": "SS00X96yTG0f"
   },
   "source": [
    "### Para as tecnologias essas foram as mais populares"
   ]
  },
  {
   "cell_type": "code",
   "execution_count": 12,
   "metadata": {
    "executionInfo": {
     "elapsed": 39,
     "status": "ok",
     "timestamp": 1647892992317,
     "user": {
      "displayName": "Igor de Sousa Pereira",
      "photoUrl": "https://lh3.googleusercontent.com/a-/AOh14Ggw5ABNDwBZkoZyYoWu9VHD8hOmeqvAcLvpDdnNaQ=s64",
      "userId": "14355244345498463392"
     },
     "user_tz": 180
    },
    "id": "fX4K9BCQQ4xr"
   },
   "outputs": [],
   "source": [
    "def plot_most_popular_tecs_class(dataframe,position, count = 12):\n",
    "  tecs = dataframe.columns[14:26]\n",
    "  # print(tecs)\n",
    "  data = dataframe[dataframe['Em qual área você atuou no primeiro projeto?'] == position]\n",
    "  data_group = data[tecs].mean().sort_values(ascending=False)\n",
    "  print(f\">> Para a classe '{position}' as seguintes tecnologias são mais importantes\")\n",
    "  print(f\">> Para essa classe tivermos {len(data)} observações\")\n",
    "  print(data_group[:count], end = '\\n\\n')"
   ]
  },
  {
   "cell_type": "code",
   "execution_count": 13,
   "metadata": {
    "colab": {
     "base_uri": "https://localhost:8080/"
    },
    "executionInfo": {
     "elapsed": 39,
     "status": "ok",
     "timestamp": 1647892992318,
     "user": {
      "displayName": "Igor de Sousa Pereira",
      "photoUrl": "https://lh3.googleusercontent.com/a-/AOh14Ggw5ABNDwBZkoZyYoWu9VHD8hOmeqvAcLvpDdnNaQ=s64",
      "userId": "14355244345498463392"
     },
     "user_tz": 180
    },
    "id": "_4OvMIcQTyEB",
    "outputId": "f1be5d86-8635-456c-8e92-97a313baafaa"
   },
   "outputs": [
    {
     "name": "stdout",
     "output_type": "stream",
     "text": [
      ">> Para a classe 'Cloud computing' as seguintes tecnologias são mais importantes\n",
      ">> Para essa classe tivermos 2 observações\n",
      "Docker                                         5.0\n",
      "Linux                                          5.0\n",
      "SQL                                            2.5\n",
      "AWS, Azure                                     2.5\n",
      "HTML e CSS                                     1.0\n",
      "React / React Native                           1.0\n",
      "NodeJS                                         1.0\n",
      "Django,Flask                                   1.0\n",
      "Spring-boot                                    1.0\n",
      "Tensorflow, Pytorch, Scikit-learn              1.0\n",
      "Microcontroladores                             1.0\n",
      "PhotoShop, Canva, Figma, Adobe XD (UX / UI)    1.0\n",
      "dtype: float64\n",
      "\n",
      ">> Para a classe 'Desenvolvimento de Sistemas' as seguintes tecnologias são mais importantes\n",
      ">> Para essa classe tivermos 23 observações\n",
      "HTML e CSS                                     3.565217\n",
      "NodeJS                                         3.391304\n",
      "SQL                                            3.391304\n",
      "Linux                                          3.173913\n",
      "React / React Native                           2.913043\n",
      "Docker                                         2.826087\n",
      "Spring-boot                                    2.782609\n",
      "AWS, Azure                                     2.739130\n",
      "PhotoShop, Canva, Figma, Adobe XD (UX / UI)    2.086957\n",
      "Django,Flask                                   1.782609\n",
      "Tensorflow, Pytorch, Scikit-learn              1.347826\n",
      "Microcontroladores                             1.086957\n",
      "dtype: float64\n",
      "\n",
      ">> Para a classe 'Inteligência artificial / Dados' as seguintes tecnologias são mais importantes\n",
      ">> Para essa classe tivermos 11 observações\n",
      "Linux                                          4.272727\n",
      "Tensorflow, Pytorch, Scikit-learn              4.181818\n",
      "SQL                                            3.363636\n",
      "NodeJS                                         2.818182\n",
      "Docker                                         2.636364\n",
      "HTML e CSS                                     2.363636\n",
      "React / React Native                           2.272727\n",
      "Django,Flask                                   2.181818\n",
      "Spring-boot                                    2.000000\n",
      "AWS, Azure                                     1.636364\n",
      "Microcontroladores                             1.363636\n",
      "PhotoShop, Canva, Figma, Adobe XD (UX / UI)    1.272727\n",
      "dtype: float64\n",
      "\n",
      ">> Para a classe 'Segurança de Dados' as seguintes tecnologias são mais importantes\n",
      ">> Para essa classe tivermos 1 observações\n",
      "Linux                                          5.0\n",
      "HTML e CSS                                     1.0\n",
      "React / React Native                           1.0\n",
      "NodeJS                                         1.0\n",
      "Django,Flask                                   1.0\n",
      "Docker                                         1.0\n",
      "Spring-boot                                    1.0\n",
      "Tensorflow, Pytorch, Scikit-learn              1.0\n",
      "SQL                                            1.0\n",
      "Microcontroladores                             1.0\n",
      "PhotoShop, Canva, Figma, Adobe XD (UX / UI)    1.0\n",
      "AWS, Azure                                     1.0\n",
      "dtype: float64\n",
      "\n"
     ]
    }
   ],
   "source": [
    "for pos in posicoes:\n",
    "  plot_most_popular_tecs_class(dados,pos)"
   ]
  },
  {
   "cell_type": "markdown",
   "metadata": {
    "id": "QvVVTSTYVYRq"
   },
   "source": [
    "### Para as disciplinas que mais capacitaram os alunos para o primeiro projeto"
   ]
  },
  {
   "cell_type": "code",
   "execution_count": 14,
   "metadata": {
    "executionInfo": {
     "elapsed": 35,
     "status": "ok",
     "timestamp": 1647892992319,
     "user": {
      "displayName": "Igor de Sousa Pereira",
      "photoUrl": "https://lh3.googleusercontent.com/a-/AOh14Ggw5ABNDwBZkoZyYoWu9VHD8hOmeqvAcLvpDdnNaQ=s64",
      "userId": "14355244345498463392"
     },
     "user_tz": 180
    },
    "id": "nGjfP6eSUx_K"
   },
   "outputs": [],
   "source": [
    "def plot_most_popular_disci_class(dataframe,position, count = 11):\n",
    "  disci = dataframe.columns[26:37]\n",
    "  # print(disci)\n",
    "  data = dataframe[dataframe['Em qual área você atuou no primeiro projeto?'] == position]\n",
    "  data_group = data[disci].mean().sort_values(ascending=False)\n",
    "  print(f\">> Para a disciplina '{position}' as seguintes tecnologias são mais importantes\")\n",
    "  print(f\">> Para essa classe tivermos {len(data)} observações\")\n",
    "  print(data_group[:count], end = '\\n\\n')"
   ]
  },
  {
   "cell_type": "code",
   "execution_count": 15,
   "metadata": {
    "colab": {
     "base_uri": "https://localhost:8080/"
    },
    "executionInfo": {
     "elapsed": 35,
     "status": "ok",
     "timestamp": 1647892992320,
     "user": {
      "displayName": "Igor de Sousa Pereira",
      "photoUrl": "https://lh3.googleusercontent.com/a-/AOh14Ggw5ABNDwBZkoZyYoWu9VHD8hOmeqvAcLvpDdnNaQ=s64",
      "userId": "14355244345498463392"
     },
     "user_tz": 180
    },
    "id": "LSmHuQGNV6ZT",
    "outputId": "c3363cd9-24e0-4686-f4e7-3550904c4101"
   },
   "outputs": [
    {
     "name": "stdout",
     "output_type": "stream",
     "text": [
      ">> Para a disciplina 'Cloud computing' as seguintes tecnologias são mais importantes\n",
      ">> Para essa classe tivermos 2 observações\n",
      "P1, P2, LP1, LP2                                                 4.0\n",
      "ATAL, EDA, LEDA, AA                                              3.5\n",
      "Daca, psoft, prog web, ES, Projeto 1, Projeto 2                  3.0\n",
      "Análise de sistemas                                              2.5\n",
      "IC, OAC, LOAC                                                    2.0\n",
      "Redes, Segurança de sistemas, interconexões de Redes de Comp.    2.0\n",
      "CDD, PLN, CDP, Redes neurais, IA, Percep. computacional          1.5\n",
      "Cálculo I e II, Linear, Vetorial                                 1.0\n",
      "Probabilidade e estatística                                      1.0\n",
      "FMCC(I ou II), Lógica                                            1.0\n",
      "TC, Compiladores                                                 1.0\n",
      "dtype: float64\n",
      "\n",
      ">> Para a disciplina 'Desenvolvimento de Sistemas' as seguintes tecnologias são mais importantes\n",
      ">> Para essa classe tivermos 23 observações\n",
      "P1, P2, LP1, LP2                                                 4.304348\n",
      "Daca, psoft, prog web, ES, Projeto 1, Projeto 2                  4.047619\n",
      "ATAL, EDA, LEDA, AA                                              3.181818\n",
      "FMCC(I ou II), Lógica                                            2.454545\n",
      "Análise de sistemas                                              2.428571\n",
      "Redes, Segurança de sistemas, interconexões de Redes de Comp.    1.857143\n",
      "Probabilidade e estatística                                      1.818182\n",
      "IC, OAC, LOAC                                                    1.545455\n",
      "TC, Compiladores                                                 1.523810\n",
      "CDD, PLN, CDP, Redes neurais, IA, Percep. computacional          1.500000\n",
      "Cálculo I e II, Linear, Vetorial                                 1.304348\n",
      "dtype: float64\n",
      "\n",
      ">> Para a disciplina 'Inteligência artificial / Dados' as seguintes tecnologias são mais importantes\n",
      ">> Para essa classe tivermos 11 observações\n",
      "P1, P2, LP1, LP2                                                 4.454545\n",
      "CDD, PLN, CDP, Redes neurais, IA, Percep. computacional          4.300000\n",
      "ATAL, EDA, LEDA, AA                                              3.636364\n",
      "Probabilidade e estatística                                      3.363636\n",
      "Daca, psoft, prog web, ES, Projeto 1, Projeto 2                  3.272727\n",
      "Cálculo I e II, Linear, Vetorial                                 3.181818\n",
      "FMCC(I ou II), Lógica                                            2.818182\n",
      "Análise de sistemas                                              2.272727\n",
      "TC, Compiladores                                                 1.545455\n",
      "IC, OAC, LOAC                                                    1.454545\n",
      "Redes, Segurança de sistemas, interconexões de Redes de Comp.    1.454545\n",
      "dtype: float64\n",
      "\n",
      ">> Para a disciplina 'Segurança de Dados' as seguintes tecnologias são mais importantes\n",
      ">> Para essa classe tivermos 1 observações\n",
      "P1, P2, LP1, LP2                                                 5.0\n",
      "Daca, psoft, prog web, ES, Projeto 1, Projeto 2                  5.0\n",
      "ATAL, EDA, LEDA, AA                                              5.0\n",
      "Análise de sistemas                                              5.0\n",
      "IC, OAC, LOAC                                                    4.0\n",
      "Cálculo I e II, Linear, Vetorial                                 3.0\n",
      "Probabilidade e estatística                                      3.0\n",
      "FMCC(I ou II), Lógica                                            3.0\n",
      "CDD, PLN, CDP, Redes neurais, IA, Percep. computacional          3.0\n",
      "Redes, Segurança de sistemas, interconexões de Redes de Comp.    3.0\n",
      "TC, Compiladores                                                 1.0\n",
      "dtype: float64\n",
      "\n"
     ]
    }
   ],
   "source": [
    "for pos in posicoes:\n",
    "  plot_most_popular_disci_class(dados,pos)"
   ]
  },
  {
   "cell_type": "markdown",
   "metadata": {
    "id": "xLbGHTJBWjoh"
   },
   "source": [
    "## Distribuição de periodos em que as pessoas ingressaram no projeto"
   ]
  },
  {
   "cell_type": "code",
   "execution_count": 16,
   "metadata": {
    "colab": {
     "base_uri": "https://localhost:8080/",
     "height": 398
    },
    "executionInfo": {
     "elapsed": 389,
     "status": "ok",
     "timestamp": 1647894630063,
     "user": {
      "displayName": "Igor de Sousa Pereira",
      "photoUrl": "https://lh3.googleusercontent.com/a-/AOh14Ggw5ABNDwBZkoZyYoWu9VHD8hOmeqvAcLvpDdnNaQ=s64",
      "userId": "14355244345498463392"
     },
     "user_tz": 180
    },
    "id": "IOBTGVeeWjFp",
    "outputId": "da1464e0-c070-424a-ce8e-cb76d4cb51b9"
   },
   "outputs": [
    {
     "name": "stderr",
     "output_type": "stream",
     "text": [
      "/tmp/ipykernel_38582/3123095180.py:11: SettingWithCopyWarning: \n",
      "A value is trying to be set on a copy of a slice from a DataFrame.\n",
      "Try using .loc[row_indexer,col_indexer] = value instead\n",
      "\n",
      "See the caveats in the documentation: https://pandas.pydata.org/pandas-docs/stable/user_guide/indexing.html#returning-a-view-versus-a-copy\n",
      "  dados['period_entry'] = dados['Em que período você ingressou no Projeto?'].apply(lambda x: mape[x])\n"
     ]
    },
    {
     "data": {
      "text/plain": [
       "Text(0.5, 0, 'Em que período você ingressou no Projeto?')"
      ]
     },
     "execution_count": 16,
     "metadata": {},
     "output_type": "execute_result"
    },
    {
     "data": {
      "image/png": "[encoded data removed]",
      "text/plain": [
       "<Figure size 432x288 with 1 Axes>"
      ]
     },
     "metadata": {
      "needs_background": "light"
     },
     "output_type": "display_data"
    }
   ],
   "source": [
    "mape = {\n",
    "    \"Segundo Período\": 2,\n",
    "    \"Terceiro Período\": 3,\n",
    "    \"Quarto Período\": 4,\n",
    "    \"Quinto Período\": 5,\n",
    "    \"Sexto Período\": 6,\n",
    "    \"Sétimo Período\": 7,\n",
    "    \"Oitavo Período\": 8,\n",
    "}\n",
    "\n",
    "dados['period_entry'] = dados['Em que período você ingressou no Projeto?'].apply(lambda x: mape[x])\n",
    "\n",
    "a = dados.groupby('period_entry')[['period_entry']].count().plot.bar(legend=False)\n",
    "a.set_xlabel(\"Em que período você ingressou no Projeto?\")"
   ]
  },
  {
   "cell_type": "code",
   "execution_count": 17,
   "metadata": {
    "colab": {
     "base_uri": "https://localhost:8080/"
    },
    "executionInfo": {
     "elapsed": 50,
     "status": "ok",
     "timestamp": 1647892992690,
     "user": {
      "displayName": "Igor de Sousa Pereira",
      "photoUrl": "https://lh3.googleusercontent.com/a-/AOh14Ggw5ABNDwBZkoZyYoWu9VHD8hOmeqvAcLvpDdnNaQ=s64",
      "userId": "14355244345498463392"
     },
     "user_tz": 180
    },
    "id": "G1WO1ArYZfWx",
    "outputId": "d03b4e65-2b75-46ee-d204-9554005b1d53"
   },
   "outputs": [
    {
     "name": "stdout",
     "output_type": "stream",
     "text": [
      "a média de periodo de ingresso é 4.864864864864865\n"
     ]
    }
   ],
   "source": [
    "print(f\"a média de periodo de ingresso é {dados['period_entry'].mean()}\")"
   ]
  },
  {
   "cell_type": "markdown",
   "metadata": {
    "id": "U7D108V6ZQFs"
   },
   "source": [
    "### Verificando a média de pessoas para a indicação"
   ]
  },
  {
   "cell_type": "code",
   "execution_count": 18,
   "metadata": {
    "executionInfo": {
     "elapsed": 43,
     "status": "ok",
     "timestamp": 1647892992693,
     "user": {
      "displayName": "Igor de Sousa Pereira",
      "photoUrl": "https://lh3.googleusercontent.com/a-/AOh14Ggw5ABNDwBZkoZyYoWu9VHD8hOmeqvAcLvpDdnNaQ=s64",
      "userId": "14355244345498463392"
     },
     "user_tz": 180
    },
    "id": "3i2I9Fg7Yl29"
   },
   "outputs": [],
   "source": [
    "indicacao = dados['Na sua opinião, ter uma indicação de alguma pessoa (envolvida, ou não, nesse projeto), te proporcionou o ingresso de seu primeiro projeto?'].dropna()"
   ]
  },
  {
   "cell_type": "code",
   "execution_count": 19,
   "metadata": {
    "colab": {
     "base_uri": "https://localhost:8080/"
    },
    "executionInfo": {
     "elapsed": 45,
     "status": "ok",
     "timestamp": 1647892992696,
     "user": {
      "displayName": "Igor de Sousa Pereira",
      "photoUrl": "https://lh3.googleusercontent.com/a-/AOh14Ggw5ABNDwBZkoZyYoWu9VHD8hOmeqvAcLvpDdnNaQ=s64",
      "userId": "14355244345498463392"
     },
     "user_tz": 180
    },
    "id": "YPlobC07aulB",
    "outputId": "22f0135b-0249-43ec-d55d-6f4027115c84"
   },
   "outputs": [
    {
     "name": "stdout",
     "output_type": "stream",
     "text": [
      "a média de indicação para o trabalho ficou em torno de 2.75\n"
     ]
    }
   ],
   "source": [
    "print(f\"a média de indicação para o trabalho ficou em torno de {indicacao.mean()}\")"
   ]
  },
  {
   "cell_type": "code",
   "execution_count": 20,
   "metadata": {
    "colab": {
     "base_uri": "https://localhost:8080/",
     "height": 302
    },
    "executionInfo": {
     "elapsed": 381,
     "status": "ok",
     "timestamp": 1647894732767,
     "user": {
      "displayName": "Igor de Sousa Pereira",
      "photoUrl": "https://lh3.googleusercontent.com/a-/AOh14Ggw5ABNDwBZkoZyYoWu9VHD8hOmeqvAcLvpDdnNaQ=s64",
      "userId": "14355244345498463392"
     },
     "user_tz": 180
    },
    "id": "gaYGW6vqbtyW",
    "outputId": "b0b57dff-e9e3-42b7-a991-4aef9fd78b77"
   },
   "outputs": [
    {
     "data": {
      "text/plain": [
       "Text(0.5, 0, 'Ter uma indicação de alguma pessoa, te proporcionou o ingresso de seu primeiro projeto?')"
      ]
     },
     "execution_count": 20,
     "metadata": {},
     "output_type": "execute_result"
    },
    {
     "data": {
      "image/png": "[encoded data removed]",
      "text/plain": [
       "<Figure size 432x288 with 1 Axes>"
      ]
     },
     "metadata": {
      "needs_background": "light"
     },
     "output_type": "display_data"
    }
   ],
   "source": [
    "col = 'Na sua opinião, ter uma indicação de alguma pessoa (envolvida, ou não, nesse projeto), te proporcionou o ingresso de seu primeiro projeto?'\n",
    "\n",
    "b = dados.groupby(col)[[col]].count().plot.bar(legend=False)\n",
    "b.set_xlabel(\"Ter uma indicação de alguma pessoa, te proporcionou o ingresso de seu primeiro projeto?\")"
   ]
  },
  {
   "cell_type": "code",
   "execution_count": 21,
   "metadata": {
    "executionInfo": {
     "elapsed": 35,
     "status": "aborted",
     "timestamp": 1647892992697,
     "user": {
      "displayName": "Igor de Sousa Pereira",
      "photoUrl": "https://lh3.googleusercontent.com/a-/AOh14Ggw5ABNDwBZkoZyYoWu9VHD8hOmeqvAcLvpDdnNaQ=s64",
      "userId": "14355244345498463392"
     },
     "user_tz": 180
    },
    "id": "ZBwEplGHI8Te"
   },
   "outputs": [],
   "source": [
    "significancia = 0.05"
   ]
  },
  {
   "cell_type": "markdown",
   "metadata": {
    "id": "ZxAaA13MLC5Y"
   },
   "source": [
    "# Testes de Hipóteses"
   ]
  },
  {
   "cell_type": "markdown",
   "metadata": {
    "id": "rPzFyqvuUl7P"
   },
   "source": [
    "$t={\\frac  {{\\bar  {x}}-\\mu _{0}}{{\\tfrac  {s}{{\\sqrt  {n}}}}}}$\n",
    "\n",
    "Em que:\n",
    "\n",
    "- ${\\displaystyle {\\bar {x}}}$: Média da amostra;\n",
    "- ${\\mu _{0}}$: hipótese de média populacional;\n",
    "- s: Desvio padrão amostral;\n",
    "- n: Tamanho da amostra."
   ]
  },
  {
   "cell_type": "markdown",
   "metadata": {
    "id": "Gybvai3nVD0Y"
   },
   "source": [
    "## Teste de hipótese para a importância média de indicação no primeiro projeto\n",
    "\n",
    "* $H_0$: a média de indicações é 3 (mais ou menos importante)\n",
    "* $H_1$: a média de indicações é diferente de 3 (mais ou menos importante)"
   ]
  },
  {
   "cell_type": "code",
   "execution_count": 22,
   "metadata": {
    "executionInfo": {
     "elapsed": 36,
     "status": "aborted",
     "timestamp": 1647892992699,
     "user": {
      "displayName": "Igor de Sousa Pereira",
      "photoUrl": "https://lh3.googleusercontent.com/a-/AOh14Ggw5ABNDwBZkoZyYoWu9VHD8hOmeqvAcLvpDdnNaQ=s64",
      "userId": "14355244345498463392"
     },
     "user_tz": 180
    },
    "id": "Tztrk_BpV0lI"
   },
   "outputs": [
    {
     "name": "stdout",
     "output_type": "stream",
     "text": [
      "0.3918158473231439\n",
      "Falha em rejeitar a hipótese nula H0, rejeita a alternativa\n"
     ]
    }
   ],
   "source": [
    "from scipy.stats.mstats import ttest_1samp\n",
    "\n",
    "p_value = ttest_1samp(indicacao, popmean=3).pvalue\n",
    "print(p_value)\n",
    "if p_value <= significancia:\n",
    "    print(\"Rejeita a hipótese nula H0, aceita a alternativa\")\n",
    "else:\n",
    "    print(\"Falha em rejeitar a hipótese nula H0, rejeita a alternativa\")"
   ]
  },
  {
   "cell_type": "markdown",
   "metadata": {
    "id": "65r0LSDUc1js"
   },
   "source": [
    "## Teste de hipótese para a média de período de ingresso do primeiro projeto\n",
    "\n",
    "- $H_0$: a média de ingresso é 5° período\n",
    "- $H_1$: a média de ingresso é diferente de 5° período"
   ]
  },
  {
   "cell_type": "code",
   "execution_count": 23,
   "metadata": {
    "executionInfo": {
     "elapsed": 37,
     "status": "aborted",
     "timestamp": 1647892992700,
     "user": {
      "displayName": "Igor de Sousa Pereira",
      "photoUrl": "https://lh3.googleusercontent.com/a-/AOh14Ggw5ABNDwBZkoZyYoWu9VHD8hOmeqvAcLvpDdnNaQ=s64",
      "userId": "14355244345498463392"
     },
     "user_tz": 180
    },
    "id": "EnHgA5aaZbHf"
   },
   "outputs": [
    {
     "name": "stdout",
     "output_type": "stream",
     "text": [
      "0.6146780481361247\n",
      "Falha em rejeitar a hipótese nula H0, rejeita a alternativa\n"
     ]
    }
   ],
   "source": [
    "p_value = ttest_1samp(dados['period_entry'], popmean=5).pvalue\n",
    "print(p_value)\n",
    "if p_value <= significancia:\n",
    "    print(\"Rejeita a hipótese nula H0, aceita a alternativa\")\n",
    "else:\n",
    "    print(\"Falha em rejeitar a hipótese nula H0, rejeita a alternativa\")"
   ]
  },
  {
   "cell_type": "code",
   "execution_count": null,
   "metadata": {
    "executionInfo": {
     "elapsed": 38,
     "status": "aborted",
     "timestamp": 1647892992702,
     "user": {
      "displayName": "Igor de Sousa Pereira",
      "photoUrl": "https://lh3.googleusercontent.com/a-/AOh14Ggw5ABNDwBZkoZyYoWu9VHD8hOmeqvAcLvpDdnNaQ=s64",
      "userId": "14355244345498463392"
     },
     "user_tz": 180
    },
    "id": "96HdzCvAmtC0"
   },
   "outputs": [],
   "source": []
  }
 ],
 "metadata": {
  "colab": {
   "collapsed_sections": [],
   "name": "Survey.ipynb",
   "provenance": []
  },
  "kernelspec": {
   "display_name": "Python 3 (ipykernel)",
   "language": "python",
   "name": "python3"
  },
  "language_info": {
   "codemirror_mode": {
    "name": "ipython",
    "version": 3
   },
   "file_extension": ".py",
   "mimetype": "text/x-python",
   "name": "python",
   "nbconvert_exporter": "python",
   "pygments_lexer": "ipython3",
   "version": "3.9.7"
  }
 },
 "nbformat": 4,
 "nbformat_minor": 1
}
